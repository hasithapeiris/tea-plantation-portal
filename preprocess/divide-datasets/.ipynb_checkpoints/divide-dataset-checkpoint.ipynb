{
 "cells": [
  {
   "cell_type": "code",
   "execution_count": 42,
   "id": "ecbbd90a-23e6-43b3-b9cc-00a463e8428a",
   "metadata": {},
   "outputs": [],
   "source": [
    "import pandas as pd"
   ]
  },
  {
   "cell_type": "code",
   "execution_count": 43,
   "id": "8b3cfa32-e2ef-4894-958e-7c8d5786467c",
   "metadata": {},
   "outputs": [],
   "source": [
    "df = pd.read_csv(\"combined_dataset.csv\")"
   ]
  },
  {
   "cell_type": "code",
   "execution_count": 44,
   "id": "62fce35a-67db-43ae-9740-5469542fe44c",
   "metadata": {
    "collapsed": true,
    "jupyter": {
     "outputs_hidden": true
    }
   },
   "outputs": [
    {
     "data": {
      "text/html": [
       "<div>\n",
       "<style scoped>\n",
       "    .dataframe tbody tr th:only-of-type {\n",
       "        vertical-align: middle;\n",
       "    }\n",
       "\n",
       "    .dataframe tbody tr th {\n",
       "        vertical-align: top;\n",
       "    }\n",
       "\n",
       "    .dataframe thead th {\n",
       "        text-align: right;\n",
       "    }\n",
       "</style>\n",
       "<table border=\"1\" class=\"dataframe\">\n",
       "  <thead>\n",
       "    <tr style=\"text-align: right;\">\n",
       "      <th></th>\n",
       "      <th>Year-Month</th>\n",
       "      <th>Export_Quantity_(Kg)</th>\n",
       "      <th>Export_Price_(Rs.)</th>\n",
       "      <th>High_Grown_Quantity_(Kg)</th>\n",
       "      <th>Medium_Grown_Quantity_(Kg)</th>\n",
       "      <th>Low_Grown_Quantity_(Kg)</th>\n",
       "      <th>Avg_Exchange_Rate</th>\n",
       "      <th>FEE_(USD)</th>\n",
       "    </tr>\n",
       "  </thead>\n",
       "  <tbody>\n",
       "    <tr>\n",
       "      <th>0</th>\n",
       "      <td>2012-01</td>\n",
       "      <td>21824945.0</td>\n",
       "      <td>497.66</td>\n",
       "      <td>5361185.05</td>\n",
       "      <td>3652353.15</td>\n",
       "      <td>14348315.90</td>\n",
       "      <td>113.942069</td>\n",
       "      <td>9.532390e+07</td>\n",
       "    </tr>\n",
       "    <tr>\n",
       "      <th>1</th>\n",
       "      <td>2012-02</td>\n",
       "      <td>22448624.0</td>\n",
       "      <td>509.15</td>\n",
       "      <td>5538399.31</td>\n",
       "      <td>3955745.75</td>\n",
       "      <td>13133213.00</td>\n",
       "      <td>114.102042</td>\n",
       "      <td>1.001710e+08</td>\n",
       "    </tr>\n",
       "    <tr>\n",
       "      <th>2</th>\n",
       "      <td>2012-03</td>\n",
       "      <td>27702254.0</td>\n",
       "      <td>536.71</td>\n",
       "      <td>6385525.09</td>\n",
       "      <td>4625138.90</td>\n",
       "      <td>17929328.00</td>\n",
       "      <td>200.000000</td>\n",
       "      <td>7.434038e+07</td>\n",
       "    </tr>\n",
       "    <tr>\n",
       "      <th>3</th>\n",
       "      <td>2012-04</td>\n",
       "      <td>23290994.0</td>\n",
       "      <td>540.91</td>\n",
       "      <td>7323011.00</td>\n",
       "      <td>5748401.20</td>\n",
       "      <td>16982493.50</td>\n",
       "      <td>200.000000</td>\n",
       "      <td>6.299166e+07</td>\n",
       "    </tr>\n",
       "    <tr>\n",
       "      <th>4</th>\n",
       "      <td>2012-05</td>\n",
       "      <td>30004885.0</td>\n",
       "      <td>567.32</td>\n",
       "      <td>8726319.70</td>\n",
       "      <td>5898297.10</td>\n",
       "      <td>18086627.25</td>\n",
       "      <td>200.000000</td>\n",
       "      <td>8.511186e+07</td>\n",
       "    </tr>\n",
       "  </tbody>\n",
       "</table>\n",
       "</div>"
      ],
      "text/plain": [
       "  Year-Month  Export_Quantity_(Kg)  Export_Price_(Rs.)  \\\n",
       "0    2012-01            21824945.0              497.66   \n",
       "1    2012-02            22448624.0              509.15   \n",
       "2    2012-03            27702254.0              536.71   \n",
       "3    2012-04            23290994.0              540.91   \n",
       "4    2012-05            30004885.0              567.32   \n",
       "\n",
       "   High_Grown_Quantity_(Kg)  Medium_Grown_Quantity_(Kg)  \\\n",
       "0                5361185.05                  3652353.15   \n",
       "1                5538399.31                  3955745.75   \n",
       "2                6385525.09                  4625138.90   \n",
       "3                7323011.00                  5748401.20   \n",
       "4                8726319.70                  5898297.10   \n",
       "\n",
       "   Low_Grown_Quantity_(Kg)  Avg_Exchange_Rate     FEE_(USD)  \n",
       "0              14348315.90         113.942069  9.532390e+07  \n",
       "1              13133213.00         114.102042  1.001710e+08  \n",
       "2              17929328.00         200.000000  7.434038e+07  \n",
       "3              16982493.50         200.000000  6.299166e+07  \n",
       "4              18086627.25         200.000000  8.511186e+07  "
      ]
     },
     "execution_count": 44,
     "metadata": {},
     "output_type": "execute_result"
    }
   ],
   "source": [
    "df.head()"
   ]
  },
  {
   "cell_type": "code",
   "execution_count": 45,
   "id": "cf304f0b-21a9-4562-8f50-feaac2967323",
   "metadata": {
    "collapsed": true,
    "jupyter": {
     "outputs_hidden": true
    },
    "scrolled": true
   },
   "outputs": [
    {
     "data": {
      "text/html": [
       "<div>\n",
       "<style scoped>\n",
       "    .dataframe tbody tr th:only-of-type {\n",
       "        vertical-align: middle;\n",
       "    }\n",
       "\n",
       "    .dataframe tbody tr th {\n",
       "        vertical-align: top;\n",
       "    }\n",
       "\n",
       "    .dataframe thead th {\n",
       "        text-align: right;\n",
       "    }\n",
       "</style>\n",
       "<table border=\"1\" class=\"dataframe\">\n",
       "  <thead>\n",
       "    <tr style=\"text-align: right;\">\n",
       "      <th></th>\n",
       "      <th>Year-Month</th>\n",
       "      <th>Export_Quantity_(Kg)</th>\n",
       "      <th>Export_Price_(Rs.)</th>\n",
       "      <th>High_Grown_Quantity_(Kg)</th>\n",
       "      <th>Medium_Grown_Quantity_(Kg)</th>\n",
       "      <th>Low_Grown_Quantity_(Kg)</th>\n",
       "      <th>Avg_Exchange_Rate</th>\n",
       "      <th>FEE_(USD)</th>\n",
       "    </tr>\n",
       "  </thead>\n",
       "  <tbody>\n",
       "    <tr>\n",
       "      <th>0</th>\n",
       "      <td>False</td>\n",
       "      <td>False</td>\n",
       "      <td>False</td>\n",
       "      <td>False</td>\n",
       "      <td>False</td>\n",
       "      <td>False</td>\n",
       "      <td>False</td>\n",
       "      <td>False</td>\n",
       "    </tr>\n",
       "    <tr>\n",
       "      <th>1</th>\n",
       "      <td>False</td>\n",
       "      <td>False</td>\n",
       "      <td>False</td>\n",
       "      <td>False</td>\n",
       "      <td>False</td>\n",
       "      <td>False</td>\n",
       "      <td>False</td>\n",
       "      <td>False</td>\n",
       "    </tr>\n",
       "    <tr>\n",
       "      <th>2</th>\n",
       "      <td>False</td>\n",
       "      <td>False</td>\n",
       "      <td>False</td>\n",
       "      <td>False</td>\n",
       "      <td>False</td>\n",
       "      <td>False</td>\n",
       "      <td>False</td>\n",
       "      <td>False</td>\n",
       "    </tr>\n",
       "    <tr>\n",
       "      <th>3</th>\n",
       "      <td>False</td>\n",
       "      <td>False</td>\n",
       "      <td>False</td>\n",
       "      <td>False</td>\n",
       "      <td>False</td>\n",
       "      <td>False</td>\n",
       "      <td>False</td>\n",
       "      <td>False</td>\n",
       "    </tr>\n",
       "    <tr>\n",
       "      <th>4</th>\n",
       "      <td>False</td>\n",
       "      <td>False</td>\n",
       "      <td>False</td>\n",
       "      <td>False</td>\n",
       "      <td>False</td>\n",
       "      <td>False</td>\n",
       "      <td>False</td>\n",
       "      <td>False</td>\n",
       "    </tr>\n",
       "    <tr>\n",
       "      <th>...</th>\n",
       "      <td>...</td>\n",
       "      <td>...</td>\n",
       "      <td>...</td>\n",
       "      <td>...</td>\n",
       "      <td>...</td>\n",
       "      <td>...</td>\n",
       "      <td>...</td>\n",
       "      <td>...</td>\n",
       "    </tr>\n",
       "    <tr>\n",
       "      <th>139</th>\n",
       "      <td>False</td>\n",
       "      <td>False</td>\n",
       "      <td>False</td>\n",
       "      <td>False</td>\n",
       "      <td>False</td>\n",
       "      <td>False</td>\n",
       "      <td>False</td>\n",
       "      <td>False</td>\n",
       "    </tr>\n",
       "    <tr>\n",
       "      <th>140</th>\n",
       "      <td>False</td>\n",
       "      <td>False</td>\n",
       "      <td>False</td>\n",
       "      <td>False</td>\n",
       "      <td>False</td>\n",
       "      <td>False</td>\n",
       "      <td>False</td>\n",
       "      <td>False</td>\n",
       "    </tr>\n",
       "    <tr>\n",
       "      <th>141</th>\n",
       "      <td>False</td>\n",
       "      <td>False</td>\n",
       "      <td>False</td>\n",
       "      <td>False</td>\n",
       "      <td>False</td>\n",
       "      <td>False</td>\n",
       "      <td>False</td>\n",
       "      <td>False</td>\n",
       "    </tr>\n",
       "    <tr>\n",
       "      <th>142</th>\n",
       "      <td>False</td>\n",
       "      <td>False</td>\n",
       "      <td>False</td>\n",
       "      <td>False</td>\n",
       "      <td>False</td>\n",
       "      <td>False</td>\n",
       "      <td>False</td>\n",
       "      <td>False</td>\n",
       "    </tr>\n",
       "    <tr>\n",
       "      <th>143</th>\n",
       "      <td>False</td>\n",
       "      <td>False</td>\n",
       "      <td>False</td>\n",
       "      <td>False</td>\n",
       "      <td>False</td>\n",
       "      <td>False</td>\n",
       "      <td>False</td>\n",
       "      <td>False</td>\n",
       "    </tr>\n",
       "  </tbody>\n",
       "</table>\n",
       "<p>144 rows × 8 columns</p>\n",
       "</div>"
      ],
      "text/plain": [
       "     Year-Month  Export_Quantity_(Kg)  Export_Price_(Rs.)  \\\n",
       "0         False                 False               False   \n",
       "1         False                 False               False   \n",
       "2         False                 False               False   \n",
       "3         False                 False               False   \n",
       "4         False                 False               False   \n",
       "..          ...                   ...                 ...   \n",
       "139       False                 False               False   \n",
       "140       False                 False               False   \n",
       "141       False                 False               False   \n",
       "142       False                 False               False   \n",
       "143       False                 False               False   \n",
       "\n",
       "     High_Grown_Quantity_(Kg)  Medium_Grown_Quantity_(Kg)  \\\n",
       "0                       False                       False   \n",
       "1                       False                       False   \n",
       "2                       False                       False   \n",
       "3                       False                       False   \n",
       "4                       False                       False   \n",
       "..                        ...                         ...   \n",
       "139                     False                       False   \n",
       "140                     False                       False   \n",
       "141                     False                       False   \n",
       "142                     False                       False   \n",
       "143                     False                       False   \n",
       "\n",
       "     Low_Grown_Quantity_(Kg)  Avg_Exchange_Rate  FEE_(USD)  \n",
       "0                      False              False      False  \n",
       "1                      False              False      False  \n",
       "2                      False              False      False  \n",
       "3                      False              False      False  \n",
       "4                      False              False      False  \n",
       "..                       ...                ...        ...  \n",
       "139                    False              False      False  \n",
       "140                    False              False      False  \n",
       "141                    False              False      False  \n",
       "142                    False              False      False  \n",
       "143                    False              False      False  \n",
       "\n",
       "[144 rows x 8 columns]"
      ]
     },
     "execution_count": 45,
     "metadata": {},
     "output_type": "execute_result"
    }
   ],
   "source": [
    "df.isnull()"
   ]
  },
  {
   "cell_type": "code",
   "execution_count": 46,
   "id": "4a66de1f-a961-4e5f-9df4-58b2c3ea26c0",
   "metadata": {},
   "outputs": [],
   "source": [
    "df = df.rename(columns={\"High_Grown_Quantity_(Kg)\": \"High_Grown_Production_(Kg)\"})"
   ]
  },
  {
   "cell_type": "code",
   "execution_count": 47,
   "id": "35d8cd8c-0647-4e37-8d84-edc26e9fdd4e",
   "metadata": {},
   "outputs": [],
   "source": [
    "df = df.rename(columns={\"Medium_Grown_Quantity_(Kg)\": \"Mid_Grown_Production_(Kg)\"})"
   ]
  },
  {
   "cell_type": "code",
   "execution_count": 48,
   "id": "ab2b5c12-d0e5-40b3-be97-f12a7d69c2d9",
   "metadata": {},
   "outputs": [],
   "source": [
    "df = df.rename(columns={\"Low_Grown_Quantity_(Kg)\": \"Low_Grown_Production_(Kg)\"})"
   ]
  },
  {
   "cell_type": "code",
   "execution_count": 49,
   "id": "92b5877e-fd45-4137-a969-8a583099a361",
   "metadata": {},
   "outputs": [],
   "source": [
    "high_grown_selection = df[[\"Year-Month\", \"High_Grown_Production_(Kg)\"]]"
   ]
  },
  {
   "cell_type": "code",
   "execution_count": 50,
   "id": "86cd9d5f-05f2-4c90-aaf2-f0ac5978c0a2",
   "metadata": {},
   "outputs": [],
   "source": [
    "high_grown_selection.to_csv(\"high_grown_production.csv\", index=False)"
   ]
  },
  {
   "cell_type": "code",
   "execution_count": 51,
   "id": "dc90ee61-f0bd-483a-a88b-9f54dcffced2",
   "metadata": {},
   "outputs": [],
   "source": [
    "mid_grown_selection = df[[\"Year-Month\", \"Mid_Grown_Production_(Kg)\"]]"
   ]
  },
  {
   "cell_type": "code",
   "execution_count": 52,
   "id": "c1ae44a9-b4e7-41d9-bc3f-4fe2242859f8",
   "metadata": {},
   "outputs": [],
   "source": [
    "mid_grown_selection.to_csv(\"mid_grown_production.csv\", index=False)"
   ]
  },
  {
   "cell_type": "code",
   "execution_count": 53,
   "id": "abec5a06-1648-49e4-8799-f26d9851858d",
   "metadata": {},
   "outputs": [],
   "source": [
    "low_grown_selection = df[[\"Year-Month\", \"Low_Grown_Production_(Kg)\"]]"
   ]
  },
  {
   "cell_type": "code",
   "execution_count": 54,
   "id": "f691ed4b-587f-484e-8924-bd8a432d716c",
   "metadata": {},
   "outputs": [],
   "source": [
    "low_grown_selection.to_csv(\"low_grown_production.csv\", index=False)"
   ]
  },
  {
   "cell_type": "code",
   "execution_count": 55,
   "id": "566fa54e-cf14-4c2b-a29b-df8dc7deea89",
   "metadata": {},
   "outputs": [],
   "source": [
    "df = df.rename(columns={\"Avg_Exchange_Rate\": \"Avg_Exchange_Rate_(LKR)\"})"
   ]
  },
  {
   "cell_type": "code",
   "execution_count": 56,
   "id": "8f49cc41-a722-4ae2-8116-0ebd2302e77d",
   "metadata": {},
   "outputs": [],
   "source": [
    "export_selection = df[[\"Year-Month\", \"Export_Quantity_(Kg)\", \"Export_Price_(Rs.)\", \"Avg_Exchange_Rate_(LKR)\"]]"
   ]
  },
  {
   "cell_type": "code",
   "execution_count": 57,
   "id": "319eff8c-226f-4aa9-bc31-1d212eb9057c",
   "metadata": {},
   "outputs": [],
   "source": [
    "export_selection.to_csv(\"tea_export_data.csv\", index=False)"
   ]
  },
  {
   "cell_type": "code",
   "execution_count": null,
   "id": "658d416f-0b51-424b-9157-fc7d51e864a5",
   "metadata": {},
   "outputs": [],
   "source": []
  }
 ],
 "metadata": {
  "kernelspec": {
   "display_name": "Python 3 (ipykernel)",
   "language": "python",
   "name": "python3"
  },
  "language_info": {
   "codemirror_mode": {
    "name": "ipython",
    "version": 3
   },
   "file_extension": ".py",
   "mimetype": "text/x-python",
   "name": "python",
   "nbconvert_exporter": "python",
   "pygments_lexer": "ipython3",
   "version": "3.12.7"
  }
 },
 "nbformat": 4,
 "nbformat_minor": 5
}
