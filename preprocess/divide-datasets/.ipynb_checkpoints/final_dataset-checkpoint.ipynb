{
 "cells": [
  {
   "cell_type": "code",
   "execution_count": 26,
   "id": "b5307d19-87f6-49d6-9ffd-6b037f15e5ce",
   "metadata": {},
   "outputs": [],
   "source": [
    "import pandas as pd"
   ]
  },
  {
   "cell_type": "code",
   "execution_count": 27,
   "id": "e614bf1a-cd15-4199-8e5c-c8d909c1f51a",
   "metadata": {},
   "outputs": [],
   "source": [
    "df = pd.read_csv(\"combined_dataset.csv\")"
   ]
  },
  {
   "cell_type": "code",
   "execution_count": 37,
   "id": "8684a7e6-575e-4ea6-b1a6-694557514133",
   "metadata": {
    "scrolled": true
   },
   "outputs": [
    {
     "data": {
      "text/html": [
       "<div>\n",
       "<style scoped>\n",
       "    .dataframe tbody tr th:only-of-type {\n",
       "        vertical-align: middle;\n",
       "    }\n",
       "\n",
       "    .dataframe tbody tr th {\n",
       "        vertical-align: top;\n",
       "    }\n",
       "\n",
       "    .dataframe thead th {\n",
       "        text-align: right;\n",
       "    }\n",
       "</style>\n",
       "<table border=\"1\" class=\"dataframe\">\n",
       "  <thead>\n",
       "    <tr style=\"text-align: right;\">\n",
       "      <th></th>\n",
       "      <th>Year-Month</th>\n",
       "      <th>High_Grown_Production_(Kg)</th>\n",
       "      <th>Mid_Grown_Production_(Kg)</th>\n",
       "      <th>Low_Grown_Production_(Kg)</th>\n",
       "      <th>National_Production_(Kg)</th>\n",
       "      <th>FEE_(Million_USD)</th>\n",
       "    </tr>\n",
       "  </thead>\n",
       "  <tbody>\n",
       "    <tr>\n",
       "      <th>0</th>\n",
       "      <td>2012-01</td>\n",
       "      <td>5361185.05</td>\n",
       "      <td>3652353.15</td>\n",
       "      <td>14348315.90</td>\n",
       "      <td>23361854.10</td>\n",
       "      <td>95.32</td>\n",
       "    </tr>\n",
       "    <tr>\n",
       "      <th>1</th>\n",
       "      <td>2012-02</td>\n",
       "      <td>5538399.31</td>\n",
       "      <td>3955745.75</td>\n",
       "      <td>13133213.00</td>\n",
       "      <td>22627358.06</td>\n",
       "      <td>100.17</td>\n",
       "    </tr>\n",
       "    <tr>\n",
       "      <th>2</th>\n",
       "      <td>2012-03</td>\n",
       "      <td>6385525.09</td>\n",
       "      <td>4625138.90</td>\n",
       "      <td>17929328.00</td>\n",
       "      <td>28939991.99</td>\n",
       "      <td>130.31</td>\n",
       "    </tr>\n",
       "    <tr>\n",
       "      <th>3</th>\n",
       "      <td>2012-04</td>\n",
       "      <td>7323011.00</td>\n",
       "      <td>5748401.20</td>\n",
       "      <td>16982493.50</td>\n",
       "      <td>30053905.70</td>\n",
       "      <td>110.41</td>\n",
       "    </tr>\n",
       "    <tr>\n",
       "      <th>4</th>\n",
       "      <td>2012-05</td>\n",
       "      <td>8726319.70</td>\n",
       "      <td>5898297.10</td>\n",
       "      <td>18086627.25</td>\n",
       "      <td>32711244.05</td>\n",
       "      <td>149.19</td>\n",
       "    </tr>\n",
       "  </tbody>\n",
       "</table>\n",
       "</div>"
      ],
      "text/plain": [
       "  Year-Month  High_Grown_Production_(Kg)  Mid_Grown_Production_(Kg)  \\\n",
       "0    2012-01                  5361185.05                 3652353.15   \n",
       "1    2012-02                  5538399.31                 3955745.75   \n",
       "2    2012-03                  6385525.09                 4625138.90   \n",
       "3    2012-04                  7323011.00                 5748401.20   \n",
       "4    2012-05                  8726319.70                 5898297.10   \n",
       "\n",
       "   Low_Grown_Production_(Kg)  National_Production_(Kg)  FEE_(Million_USD)  \n",
       "0                14348315.90               23361854.10              95.32  \n",
       "1                13133213.00               22627358.06             100.17  \n",
       "2                17929328.00               28939991.99             130.31  \n",
       "3                16982493.50               30053905.70             110.41  \n",
       "4                18086627.25               32711244.05             149.19  "
      ]
     },
     "execution_count": 37,
     "metadata": {},
     "output_type": "execute_result"
    }
   ],
   "source": [
    "df.head()"
   ]
  },
  {
   "cell_type": "code",
   "execution_count": 29,
   "id": "35f6ec1b-c766-4311-ba78-2132d45270fd",
   "metadata": {},
   "outputs": [],
   "source": [
    "# Rename columns\n",
    "df = df.rename(columns={\"High_Grown_Quantity_(Kg)\": \"High_Grown_Production_(Kg)\",\n",
    "                       \"Medium_Grown_Quantity_(Kg)\": \"Mid_Grown_Production_(Kg)\",\n",
    "                       \"Low_Grown_Quantity_(Kg)\": \"Low_Grown_Production_(Kg)\"})"
   ]
  },
  {
   "cell_type": "code",
   "execution_count": 30,
   "id": "d6a0f0a9-6762-4dc1-952b-9520219c53e9",
   "metadata": {},
   "outputs": [],
   "source": [
    "# Drop FEE_(USD) column\n",
    "df = df.drop(columns=[\"FEE_(USD)\"])"
   ]
  },
  {
   "cell_type": "code",
   "execution_count": 31,
   "id": "2039a0f7-1106-4200-8788-e833a9e15840",
   "metadata": {},
   "outputs": [],
   "source": [
    "# Calculate Foreign Exchange Earnings (USD)\n",
    "df['FEE_(USD)'] = (df['Export_Quantity_(Kg)'] * df['Export_Price_(Rs.)']) / df['Avg_Exchange_Rate']"
   ]
  },
  {
   "cell_type": "code",
   "execution_count": 32,
   "id": "8564aeea-d171-4a20-b12e-042036b2f7b1",
   "metadata": {},
   "outputs": [],
   "source": [
    "# Convert FEE to Millions (divide by 1e6)\n",
    "df['FEE_(Million_USD)'] = (df['FEE_(USD)'] / 1e6).round(2)"
   ]
  },
  {
   "cell_type": "code",
   "execution_count": 33,
   "id": "4ebcc2b5-2f88-4aeb-acc1-4a6ea7bbec5a",
   "metadata": {},
   "outputs": [],
   "source": [
    "# Calculate National Tea Production\n",
    "df['National_Production_(Kg)'] = (df['High_Grown_Production_(Kg)'] + df['Mid_Grown_Production_(Kg)']) + df['Low_Grown_Production_(Kg)']"
   ]
  },
  {
   "cell_type": "code",
   "execution_count": 34,
   "id": "1f5098b0-6818-49ee-bee9-ad0aae34de79",
   "metadata": {},
   "outputs": [],
   "source": [
    "# Drop unnecessary columns\n",
    "df = df.drop(columns=['Export_Quantity_(Kg)', 'Export_Price_(Rs.)', 'Avg_Exchange_Rate', 'FEE_(USD)'])"
   ]
  },
  {
   "cell_type": "code",
   "execution_count": 35,
   "id": "5c261caf-8639-4ae1-981c-1191ca1b0c2d",
   "metadata": {},
   "outputs": [],
   "source": [
    "# Reorder columns\n",
    "df = df[['Year-Month', 'High_Grown_Production_(Kg)', 'Mid_Grown_Production_(Kg)', 'Low_Grown_Production_(Kg)',\n",
    "        'National_Production_(Kg)', 'FEE_(Million_USD)']]"
   ]
  },
  {
   "cell_type": "code",
   "execution_count": 36,
   "id": "25a683e4-42d3-4c0e-960c-512a10024527",
   "metadata": {},
   "outputs": [],
   "source": [
    "# Save to a new dataset\n",
    "df.to_csv('tea_forex.csv', index=False)"
   ]
  },
  {
   "cell_type": "code",
   "execution_count": null,
   "id": "9e1c73e1-e5d0-4ed7-aef2-20d0c75302a7",
   "metadata": {},
   "outputs": [],
   "source": []
  }
 ],
 "metadata": {
  "kernelspec": {
   "display_name": "Python 3 (ipykernel)",
   "language": "python",
   "name": "python3"
  },
  "language_info": {
   "codemirror_mode": {
    "name": "ipython",
    "version": 3
   },
   "file_extension": ".py",
   "mimetype": "text/x-python",
   "name": "python",
   "nbconvert_exporter": "python",
   "pygments_lexer": "ipython3",
   "version": "3.12.7"
  }
 },
 "nbformat": 4,
 "nbformat_minor": 5
}
