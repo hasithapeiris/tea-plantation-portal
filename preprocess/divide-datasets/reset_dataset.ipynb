{
 "cells": [
  {
   "cell_type": "code",
   "execution_count": 12,
   "id": "a0b07236-d54c-4a27-85f4-9a379d9cc9da",
   "metadata": {},
   "outputs": [],
   "source": [
    "import pandas as pd"
   ]
  },
  {
   "cell_type": "code",
   "execution_count": 13,
   "id": "32fe8bc5-c089-4900-9ebb-9f730fda5a43",
   "metadata": {},
   "outputs": [],
   "source": [
    "df = pd.read_csv(\"combined_dataset.csv\")"
   ]
  },
  {
   "cell_type": "code",
   "execution_count": 14,
   "id": "30dc8552-fc4f-48e7-b11e-eae1d1a5741d",
   "metadata": {},
   "outputs": [
    {
     "data": {
      "text/html": [
       "<div>\n",
       "<style scoped>\n",
       "    .dataframe tbody tr th:only-of-type {\n",
       "        vertical-align: middle;\n",
       "    }\n",
       "\n",
       "    .dataframe tbody tr th {\n",
       "        vertical-align: top;\n",
       "    }\n",
       "\n",
       "    .dataframe thead th {\n",
       "        text-align: right;\n",
       "    }\n",
       "</style>\n",
       "<table border=\"1\" class=\"dataframe\">\n",
       "  <thead>\n",
       "    <tr style=\"text-align: right;\">\n",
       "      <th></th>\n",
       "      <th>Year-Month</th>\n",
       "      <th>Export_Quantity_(Kg)</th>\n",
       "      <th>Export_Price_(Rs.)</th>\n",
       "      <th>High_Grown_Quantity_(Kg)</th>\n",
       "      <th>Medium_Grown_Quantity_(Kg)</th>\n",
       "      <th>Low_Grown_Quantity_(Kg)</th>\n",
       "      <th>Avg_Exchange_Rate</th>\n",
       "      <th>FEE_(USD)</th>\n",
       "    </tr>\n",
       "  </thead>\n",
       "  <tbody>\n",
       "    <tr>\n",
       "      <th>0</th>\n",
       "      <td>2012-01</td>\n",
       "      <td>21824945.0</td>\n",
       "      <td>497.66</td>\n",
       "      <td>5361185.05</td>\n",
       "      <td>3652353.15</td>\n",
       "      <td>14348315.90</td>\n",
       "      <td>113.942069</td>\n",
       "      <td>9.532390e+07</td>\n",
       "    </tr>\n",
       "    <tr>\n",
       "      <th>1</th>\n",
       "      <td>2012-02</td>\n",
       "      <td>22448624.0</td>\n",
       "      <td>509.15</td>\n",
       "      <td>5538399.31</td>\n",
       "      <td>3955745.75</td>\n",
       "      <td>13133213.00</td>\n",
       "      <td>114.102042</td>\n",
       "      <td>1.001710e+08</td>\n",
       "    </tr>\n",
       "    <tr>\n",
       "      <th>2</th>\n",
       "      <td>2012-03</td>\n",
       "      <td>27702254.0</td>\n",
       "      <td>536.71</td>\n",
       "      <td>6385525.09</td>\n",
       "      <td>4625138.90</td>\n",
       "      <td>17929328.00</td>\n",
       "      <td>200.000000</td>\n",
       "      <td>7.434038e+07</td>\n",
       "    </tr>\n",
       "    <tr>\n",
       "      <th>3</th>\n",
       "      <td>2012-04</td>\n",
       "      <td>23290994.0</td>\n",
       "      <td>540.91</td>\n",
       "      <td>7323011.00</td>\n",
       "      <td>5748401.20</td>\n",
       "      <td>16982493.50</td>\n",
       "      <td>200.000000</td>\n",
       "      <td>6.299166e+07</td>\n",
       "    </tr>\n",
       "    <tr>\n",
       "      <th>4</th>\n",
       "      <td>2012-05</td>\n",
       "      <td>30004885.0</td>\n",
       "      <td>567.32</td>\n",
       "      <td>8726319.70</td>\n",
       "      <td>5898297.10</td>\n",
       "      <td>18086627.25</td>\n",
       "      <td>200.000000</td>\n",
       "      <td>8.511186e+07</td>\n",
       "    </tr>\n",
       "  </tbody>\n",
       "</table>\n",
       "</div>"
      ],
      "text/plain": [
       "  Year-Month  Export_Quantity_(Kg)  Export_Price_(Rs.)  \\\n",
       "0    2012-01            21824945.0              497.66   \n",
       "1    2012-02            22448624.0              509.15   \n",
       "2    2012-03            27702254.0              536.71   \n",
       "3    2012-04            23290994.0              540.91   \n",
       "4    2012-05            30004885.0              567.32   \n",
       "\n",
       "   High_Grown_Quantity_(Kg)  Medium_Grown_Quantity_(Kg)  \\\n",
       "0                5361185.05                  3652353.15   \n",
       "1                5538399.31                  3955745.75   \n",
       "2                6385525.09                  4625138.90   \n",
       "3                7323011.00                  5748401.20   \n",
       "4                8726319.70                  5898297.10   \n",
       "\n",
       "   Low_Grown_Quantity_(Kg)  Avg_Exchange_Rate     FEE_(USD)  \n",
       "0              14348315.90         113.942069  9.532390e+07  \n",
       "1              13133213.00         114.102042  1.001710e+08  \n",
       "2              17929328.00         200.000000  7.434038e+07  \n",
       "3              16982493.50         200.000000  6.299166e+07  \n",
       "4              18086627.25         200.000000  8.511186e+07  "
      ]
     },
     "execution_count": 14,
     "metadata": {},
     "output_type": "execute_result"
    }
   ],
   "source": [
    "df.head()"
   ]
  },
  {
   "cell_type": "code",
   "execution_count": 15,
   "id": "ffb3f7c9-7cd7-4b2a-839c-0778c95d780b",
   "metadata": {},
   "outputs": [],
   "source": [
    "df = df.rename(columns={\"High_Grown_Quantity_(Kg)\": \"High_Grown_Production_(Kg)\"})\n",
    "df = df.rename(columns={\"Medium_Grown_Quantity_(Kg)\": \"Mid_Grown_Production_(Kg)\"})\n",
    "df = df.rename(columns={\"Low_Grown_Quantity_(Kg)\": \"Low_Grown_Production_(Kg)\"})\n",
    "df = df.rename(columns={\"Avg_Exchange_Rate\": \"Avg_Exchange_Rate_(LKR)\"})"
   ]
  },
  {
   "cell_type": "code",
   "execution_count": 16,
   "id": "39628448-5959-43ce-977e-96527e8045ce",
   "metadata": {},
   "outputs": [],
   "source": [
    "df = df.drop(columns=[\"FEE_(USD)\"])"
   ]
  },
  {
   "cell_type": "code",
   "execution_count": 17,
   "id": "37daafce-ab33-4202-aeda-1778ae1592a2",
   "metadata": {},
   "outputs": [
    {
     "name": "stdout",
     "output_type": "stream",
     "text": [
      "Index(['Year-Month', 'Export_Quantity_(Kg)', 'Export_Price_(Rs.)',\n",
      "       'High_Grown_Production_(Kg)', 'Mid_Grown_Production_(Kg)',\n",
      "       'Low_Grown_Production_(Kg)', 'Avg_Exchange_Rate_(LKR)'],\n",
      "      dtype='object')\n"
     ]
    }
   ],
   "source": [
    "print(df.columns)"
   ]
  },
  {
   "cell_type": "code",
   "execution_count": 18,
   "id": "e398f68c-0018-45ba-9aa2-a18ab0e4e726",
   "metadata": {},
   "outputs": [],
   "source": [
    "new_order = ['Year-Month', 'High_Grown_Production_(Kg)', 'Mid_Grown_Production_(Kg)', 'Low_Grown_Production_(Kg)', \n",
    "             'Export_Quantity_(Kg)', 'Export_Price_(Rs.)', 'Avg_Exchange_Rate_(LKR)']\n",
    "df = df[new_order]"
   ]
  },
  {
   "cell_type": "code",
   "execution_count": 19,
   "id": "11c617a6-e283-42f4-82cc-55997c08f75a",
   "metadata": {},
   "outputs": [
    {
     "name": "stdout",
     "output_type": "stream",
     "text": [
      "Index(['Year-Month', 'High_Grown_Production_(Kg)', 'Mid_Grown_Production_(Kg)',\n",
      "       'Low_Grown_Production_(Kg)', 'Export_Quantity_(Kg)',\n",
      "       'Export_Price_(Rs.)', 'Avg_Exchange_Rate_(LKR)'],\n",
      "      dtype='object')\n"
     ]
    }
   ],
   "source": [
    "print(df.columns)"
   ]
  },
  {
   "cell_type": "code",
   "execution_count": 20,
   "id": "b51ba20a-8b38-463f-a43a-42335a8427e5",
   "metadata": {},
   "outputs": [],
   "source": [
    "df.to_csv(\"tea_production_data.csv\", index=False)"
   ]
  },
  {
   "cell_type": "code",
   "execution_count": null,
   "id": "0c57c1f8-3ada-4a0d-8c17-fdc121d2b936",
   "metadata": {},
   "outputs": [],
   "source": []
  }
 ],
 "metadata": {
  "kernelspec": {
   "display_name": "Python 3 (ipykernel)",
   "language": "python",
   "name": "python3"
  },
  "language_info": {
   "codemirror_mode": {
    "name": "ipython",
    "version": 3
   },
   "file_extension": ".py",
   "mimetype": "text/x-python",
   "name": "python",
   "nbconvert_exporter": "python",
   "pygments_lexer": "ipython3",
   "version": "3.12.7"
  }
 },
 "nbformat": 4,
 "nbformat_minor": 5
}
