{
 "cells": [
  {
   "cell_type": "code",
   "execution_count": 49,
   "id": "9fc0b2b8-33cf-41ea-babe-51987415653f",
   "metadata": {},
   "outputs": [],
   "source": [
    "import pandas as pd\n",
    "import numpy as np\n",
    "from sklearn.model_selection import train_test_split\n",
    "from sklearn.linear_model import LinearRegression\n",
    "from sklearn.ensemble import RandomForestRegressor\n",
    "from sklearn.tree import DecisionTreeRegressor\n",
    "from sklearn.metrics import mean_squared_error, r2_score"
   ]
  },
  {
   "cell_type": "code",
   "execution_count": 50,
   "id": "8c687742-2098-4783-8b98-09304eb7c4df",
   "metadata": {},
   "outputs": [],
   "source": [
    "data = pd.read_csv(\"tea_production.csv\")"
   ]
  },
  {
   "cell_type": "code",
   "execution_count": 61,
   "id": "be09fd49-d14a-4e91-8f78-dafa7245f291",
   "metadata": {},
   "outputs": [
    {
     "data": {
      "text/html": [
       "<div>\n",
       "<style scoped>\n",
       "    .dataframe tbody tr th:only-of-type {\n",
       "        vertical-align: middle;\n",
       "    }\n",
       "\n",
       "    .dataframe tbody tr th {\n",
       "        vertical-align: top;\n",
       "    }\n",
       "\n",
       "    .dataframe thead th {\n",
       "        text-align: right;\n",
       "    }\n",
       "</style>\n",
       "<table border=\"1\" class=\"dataframe\">\n",
       "  <thead>\n",
       "    <tr style=\"text-align: right;\">\n",
       "      <th></th>\n",
       "      <th>Year</th>\n",
       "      <th>Month</th>\n",
       "      <th>National_Production_(Kg)</th>\n",
       "      <th>FEE_(USD)</th>\n",
       "    </tr>\n",
       "  </thead>\n",
       "  <tbody>\n",
       "    <tr>\n",
       "      <th>0</th>\n",
       "      <td>2012</td>\n",
       "      <td>01</td>\n",
       "      <td>23361854.10</td>\n",
       "      <td>9.532390e+07</td>\n",
       "    </tr>\n",
       "    <tr>\n",
       "      <th>1</th>\n",
       "      <td>2012</td>\n",
       "      <td>02</td>\n",
       "      <td>22627358.06</td>\n",
       "      <td>1.001710e+08</td>\n",
       "    </tr>\n",
       "    <tr>\n",
       "      <th>2</th>\n",
       "      <td>2012</td>\n",
       "      <td>03</td>\n",
       "      <td>28939991.99</td>\n",
       "      <td>1.303051e+08</td>\n",
       "    </tr>\n",
       "    <tr>\n",
       "      <th>3</th>\n",
       "      <td>2012</td>\n",
       "      <td>04</td>\n",
       "      <td>30053905.70</td>\n",
       "      <td>1.104128e+08</td>\n",
       "    </tr>\n",
       "    <tr>\n",
       "      <th>4</th>\n",
       "      <td>2012</td>\n",
       "      <td>05</td>\n",
       "      <td>32711244.05</td>\n",
       "      <td>1.491855e+08</td>\n",
       "    </tr>\n",
       "  </tbody>\n",
       "</table>\n",
       "</div>"
      ],
      "text/plain": [
       "   Year Month  National_Production_(Kg)     FEE_(USD)\n",
       "0  2012    01               23361854.10  9.532390e+07\n",
       "1  2012    02               22627358.06  1.001710e+08\n",
       "2  2012    03               28939991.99  1.303051e+08\n",
       "3  2012    04               30053905.70  1.104128e+08\n",
       "4  2012    05               32711244.05  1.491855e+08"
      ]
     },
     "execution_count": 61,
     "metadata": {},
     "output_type": "execute_result"
    }
   ],
   "source": [
    "data.head()"
   ]
  },
  {
   "cell_type": "code",
   "execution_count": 52,
   "id": "8a0277ac-a8d2-4867-a3dc-c3a84b9d167a",
   "metadata": {},
   "outputs": [],
   "source": [
    "# drop columns\n",
    "data = data.drop(columns=['High_Grown_Production_(Kg)', 'Mid_Grown_Production_(Kg)', 'Low_Grown_Production_(Kg)'])"
   ]
  },
  {
   "cell_type": "code",
   "execution_count": 53,
   "id": "d648bbc6-014c-4428-947e-4b0cea37213d",
   "metadata": {},
   "outputs": [],
   "source": [
    "# Split 'Year-Month' column into 'Year' and 'Month'\n",
    "data[['Year', 'Month']] = data['Year-Month'].str.split('-', expand=True)"
   ]
  },
  {
   "cell_type": "code",
   "execution_count": 54,
   "id": "bb0ec485-3892-4204-8d15-2cc89cdf0142",
   "metadata": {},
   "outputs": [],
   "source": [
    "# drop columns\n",
    "data = data.drop(columns=['Year-Month'])"
   ]
  },
  {
   "cell_type": "code",
   "execution_count": 55,
   "id": "5e8bbd35-17c6-4a23-b266-1ddc3fb20ed9",
   "metadata": {},
   "outputs": [],
   "source": [
    "# Reorder columns to move 'Year Month' to the top\n",
    "data = data[['Year', 'Month', 'National_Production_(Kg)', 'FEE_(USD)']]"
   ]
  },
  {
   "cell_type": "code",
   "execution_count": 56,
   "id": "68caba17-de53-42ae-8bff-049fe439b1a3",
   "metadata": {},
   "outputs": [
    {
     "data": {
      "text/plain": [
       "(144, 4)"
      ]
     },
     "execution_count": 56,
     "metadata": {},
     "output_type": "execute_result"
    }
   ],
   "source": [
    "data.shape"
   ]
  },
  {
   "cell_type": "code",
   "execution_count": 57,
   "id": "9be601da-9ec4-4678-8559-b5ee841ab6d3",
   "metadata": {},
   "outputs": [],
   "source": [
    "# Step 1: Prepare the data\n",
    "X = data.drop(columns=['FEE_(USD)'])  # Features\n",
    "y = data['FEE_(USD)']  # Target variable\n",
    "\n",
    "# Convert DataFrame to NumPy\n",
    "X_train, X_test, y_train, y_test = train_test_split(X, y, test_size=0.2, random_state=42)"
   ]
  },
  {
   "cell_type": "code",
   "execution_count": 58,
   "id": "7dd12a65-9b8f-4381-be27-b68d9939cae4",
   "metadata": {},
   "outputs": [
    {
     "data": {
      "text/plain": [
       "((115, 3), (29, 3))"
      ]
     },
     "execution_count": 58,
     "metadata": {},
     "output_type": "execute_result"
    }
   ],
   "source": [
    "X_train.shape, X_test.shape"
   ]
  },
  {
   "cell_type": "code",
   "execution_count": 59,
   "id": "a8e572bd-6dda-4a78-9eb7-ecf1214dbba9",
   "metadata": {},
   "outputs": [],
   "source": [
    "def model_acc(model):\n",
    "    model.fit(X_train, y_train)\n",
    "    acc = model.score(X_test, y_test)\n",
    "    print(str(model) + ' --> ' + str(acc))"
   ]
  },
  {
   "cell_type": "code",
   "execution_count": 60,
   "id": "b599d2d5-a504-422a-b2b8-8498fb92e802",
   "metadata": {},
   "outputs": [
    {
     "name": "stdout",
     "output_type": "stream",
     "text": [
      "LinearRegression() --> 0.07731508452320446\n",
      "RandomForestRegressor() --> 0.29565326446125073\n",
      "DecisionTreeRegressor() --> 0.01723388192011599\n"
     ]
    }
   ],
   "source": [
    "lr = LinearRegression()\n",
    "model_acc(lr)\n",
    "\n",
    "rf = RandomForestRegressor()\n",
    "model_acc(rf)\n",
    "\n",
    "dt = DecisionTreeRegressor()\n",
    "model_acc(dt)"
   ]
  },
  {
   "cell_type": "code",
   "execution_count": 62,
   "id": "b82dce8c-1873-48a9-ae3e-63069e39ac6e",
   "metadata": {},
   "outputs": [],
   "source": [
    "model = RandomForestRegressor()\n",
    "model = model.fit(X_train, y_train)"
   ]
  },
  {
   "cell_type": "code",
   "execution_count": 63,
   "id": "6ba7ac08-d47e-402c-8f09-7c91dacfbaaa",
   "metadata": {},
   "outputs": [
    {
     "name": "stdout",
     "output_type": "stream",
     "text": [
      "0.3017294436287322\n"
     ]
    }
   ],
   "source": [
    "acc = model.score(X_test, y_test)\n",
    "print(acc)"
   ]
  },
  {
   "cell_type": "code",
   "execution_count": 64,
   "id": "e296a880-bbfc-4177-bf37-3de2688b7fa3",
   "metadata": {},
   "outputs": [],
   "source": [
    "import pickle\n",
    "with open('forex_model.pickle', 'wb') as file:\n",
    "    pickle.dump(model, file)"
   ]
  },
  {
   "cell_type": "code",
   "execution_count": 65,
   "id": "dadf0982-2f20-444a-a730-ebacab4808e8",
   "metadata": {},
   "outputs": [
    {
     "data": {
      "text/plain": [
       "Index(['Year', 'Month', 'National_Production_(Kg)'], dtype='object')"
      ]
     },
     "execution_count": 65,
     "metadata": {},
     "output_type": "execute_result"
    }
   ],
   "source": [
    "X_train.columns"
   ]
  },
  {
   "cell_type": "code",
   "execution_count": 67,
   "id": "92204d3f-31a9-4f61-a38b-778dbf8f4df1",
   "metadata": {},
   "outputs": [
    {
     "name": "stderr",
     "output_type": "stream",
     "text": [
      "C:\\Users\\hasit\\anaconda3\\Lib\\site-packages\\sklearn\\utils\\validation.py:2739: UserWarning: X does not have valid feature names, but RandomForestRegressor was fitted with feature names\n",
      "  warnings.warn(\n"
     ]
    },
    {
     "data": {
      "text/plain": [
       "array([1.01961503e+08])"
      ]
     },
     "execution_count": 67,
     "metadata": {},
     "output_type": "execute_result"
    }
   ],
   "source": [
    "model.predict([[2025, 12, 20506502.00]])"
   ]
  },
  {
   "cell_type": "code",
   "execution_count": null,
   "id": "9f0eb967-ee02-438a-83e1-df402c1a769a",
   "metadata": {},
   "outputs": [],
   "source": []
  }
 ],
 "metadata": {
  "kernelspec": {
   "display_name": "Python 3 (ipykernel)",
   "language": "python",
   "name": "python3"
  },
  "language_info": {
   "codemirror_mode": {
    "name": "ipython",
    "version": 3
   },
   "file_extension": ".py",
   "mimetype": "text/x-python",
   "name": "python",
   "nbconvert_exporter": "python",
   "pygments_lexer": "ipython3",
   "version": "3.12.7"
  }
 },
 "nbformat": 4,
 "nbformat_minor": 5
}
