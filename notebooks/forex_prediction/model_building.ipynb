{
 "cells": [
  {
   "cell_type": "code",
   "execution_count": 1,
   "id": "de5d2aa7-363a-4141-8a61-cccdbe5e1a4d",
   "metadata": {},
   "outputs": [],
   "source": [
    "import pandas as pd\n",
    "import numpy as np\n",
    "from sklearn.model_selection import train_test_split\n",
    "from sklearn.linear_model import LinearRegression\n",
    "from sklearn.ensemble import RandomForestRegressor\n",
    "from sklearn.tree import DecisionTreeRegressor\n",
    "from sklearn.metrics import mean_squared_error, r2_score"
   ]
  },
  {
   "cell_type": "code",
   "execution_count": 2,
   "id": "5a4cd60d-f3ef-4221-8248-eea1e0c1e2b1",
   "metadata": {},
   "outputs": [],
   "source": [
    "data = pd.read_csv(\"final_forex_dataset.csv\")"
   ]
  },
  {
   "cell_type": "code",
   "execution_count": 3,
   "id": "1b4d8b95-d66d-4027-9bc3-1b908fb91030",
   "metadata": {},
   "outputs": [
    {
     "data": {
      "text/html": [
       "<div>\n",
       "<style scoped>\n",
       "    .dataframe tbody tr th:only-of-type {\n",
       "        vertical-align: middle;\n",
       "    }\n",
       "\n",
       "    .dataframe tbody tr th {\n",
       "        vertical-align: top;\n",
       "    }\n",
       "\n",
       "    .dataframe thead th {\n",
       "        text-align: right;\n",
       "    }\n",
       "</style>\n",
       "<table border=\"1\" class=\"dataframe\">\n",
       "  <thead>\n",
       "    <tr style=\"text-align: right;\">\n",
       "      <th></th>\n",
       "      <th>Year</th>\n",
       "      <th>Month</th>\n",
       "      <th>Export_Quantity_(Kg)</th>\n",
       "      <th>Export_Price_(Rs.)</th>\n",
       "      <th>High_Grown_Quantity_(Kg)</th>\n",
       "      <th>Medium_Grown_Quantity_(Kg)</th>\n",
       "      <th>Low_Grown_Quantity_(Kg)</th>\n",
       "      <th>Avg_Exchange_Rate</th>\n",
       "      <th>FEE_(USD)</th>\n",
       "    </tr>\n",
       "  </thead>\n",
       "  <tbody>\n",
       "    <tr>\n",
       "      <th>0</th>\n",
       "      <td>2012</td>\n",
       "      <td>3</td>\n",
       "      <td>27702254.0</td>\n",
       "      <td>536.71</td>\n",
       "      <td>6385525.09</td>\n",
       "      <td>4625138.9</td>\n",
       "      <td>17929328.00</td>\n",
       "      <td>200.0000</td>\n",
       "      <td>7.434038e+07</td>\n",
       "    </tr>\n",
       "    <tr>\n",
       "      <th>1</th>\n",
       "      <td>2012</td>\n",
       "      <td>4</td>\n",
       "      <td>23290994.0</td>\n",
       "      <td>540.91</td>\n",
       "      <td>7323011.00</td>\n",
       "      <td>5748401.2</td>\n",
       "      <td>16982493.50</td>\n",
       "      <td>200.0000</td>\n",
       "      <td>6.299166e+07</td>\n",
       "    </tr>\n",
       "    <tr>\n",
       "      <th>2</th>\n",
       "      <td>2012</td>\n",
       "      <td>5</td>\n",
       "      <td>30004885.0</td>\n",
       "      <td>567.32</td>\n",
       "      <td>8726319.70</td>\n",
       "      <td>5898297.1</td>\n",
       "      <td>18086627.25</td>\n",
       "      <td>200.0000</td>\n",
       "      <td>8.511186e+07</td>\n",
       "    </tr>\n",
       "    <tr>\n",
       "      <th>3</th>\n",
       "      <td>2012</td>\n",
       "      <td>6</td>\n",
       "      <td>22804265.0</td>\n",
       "      <td>553.03</td>\n",
       "      <td>5963710.45</td>\n",
       "      <td>3842289.7</td>\n",
       "      <td>16737376.00</td>\n",
       "      <td>130.3009</td>\n",
       "      <td>9.678707e+07</td>\n",
       "    </tr>\n",
       "    <tr>\n",
       "      <th>4</th>\n",
       "      <td>2012</td>\n",
       "      <td>7</td>\n",
       "      <td>25761299.0</td>\n",
       "      <td>555.55</td>\n",
       "      <td>4064094.35</td>\n",
       "      <td>3429525.6</td>\n",
       "      <td>17506502.00</td>\n",
       "      <td>200.0000</td>\n",
       "      <td>7.155845e+07</td>\n",
       "    </tr>\n",
       "  </tbody>\n",
       "</table>\n",
       "</div>"
      ],
      "text/plain": [
       "   Year  Month  Export_Quantity_(Kg)  Export_Price_(Rs.)  \\\n",
       "0  2012      3            27702254.0              536.71   \n",
       "1  2012      4            23290994.0              540.91   \n",
       "2  2012      5            30004885.0              567.32   \n",
       "3  2012      6            22804265.0              553.03   \n",
       "4  2012      7            25761299.0              555.55   \n",
       "\n",
       "   High_Grown_Quantity_(Kg)  Medium_Grown_Quantity_(Kg)  \\\n",
       "0                6385525.09                   4625138.9   \n",
       "1                7323011.00                   5748401.2   \n",
       "2                8726319.70                   5898297.1   \n",
       "3                5963710.45                   3842289.7   \n",
       "4                4064094.35                   3429525.6   \n",
       "\n",
       "   Low_Grown_Quantity_(Kg)  Avg_Exchange_Rate     FEE_(USD)  \n",
       "0              17929328.00           200.0000  7.434038e+07  \n",
       "1              16982493.50           200.0000  6.299166e+07  \n",
       "2              18086627.25           200.0000  8.511186e+07  \n",
       "3              16737376.00           130.3009  9.678707e+07  \n",
       "4              17506502.00           200.0000  7.155845e+07  "
      ]
     },
     "execution_count": 3,
     "metadata": {},
     "output_type": "execute_result"
    }
   ],
   "source": [
    "data.head()"
   ]
  },
  {
   "cell_type": "code",
   "execution_count": 4,
   "id": "75ab74f9-b662-4f78-b3ba-5226e426f250",
   "metadata": {},
   "outputs": [],
   "source": [
    "# Step 1: Prepare the data\n",
    "X = data.drop(columns=['FEE_(USD)'])  # Features\n",
    "y = data['FEE_(USD)']  # Target variable\n",
    "\n",
    "# Convert DataFrame to NumPy for ARIMA compatibility\n",
    "X_train, X_test, y_train, y_test = train_test_split(X, y, test_size=0.2, random_state=42)"
   ]
  },
  {
   "cell_type": "code",
   "execution_count": 5,
   "id": "2a6cbb09-cea4-4d6c-b4e2-2989922eedb9",
   "metadata": {},
   "outputs": [
    {
     "data": {
      "text/plain": [
       "((113, 8), (29, 8))"
      ]
     },
     "execution_count": 5,
     "metadata": {},
     "output_type": "execute_result"
    }
   ],
   "source": [
    "X_train.shape, X_test.shape"
   ]
  },
  {
   "cell_type": "code",
   "execution_count": 6,
   "id": "28dbae71-cbca-4505-9c53-3cb86711cc33",
   "metadata": {},
   "outputs": [],
   "source": [
    "def model_acc(model):\n",
    "    model.fit(X_train, y_train)\n",
    "    acc = model.score(X_test, y_test)\n",
    "    print(str(model) + ' --> ' + str(acc))"
   ]
  },
  {
   "cell_type": "code",
   "execution_count": 7,
   "id": "f33ec3df-3d21-4a66-a55f-8b796d8741db",
   "metadata": {},
   "outputs": [
    {
     "name": "stdout",
     "output_type": "stream",
     "text": [
      "LinearRegression() --> 0.9606676644869463\n",
      "RandomForestRegressor() --> 0.7283025203449607\n",
      "DecisionTreeRegressor() --> 0.80955873473968\n"
     ]
    }
   ],
   "source": [
    "lr = LinearRegression()\n",
    "model_acc(lr)\n",
    "\n",
    "rf = RandomForestRegressor()\n",
    "model_acc(rf)\n",
    "\n",
    "dt = DecisionTreeRegressor()\n",
    "model_acc(dt)"
   ]
  },
  {
   "cell_type": "code",
   "execution_count": 8,
   "id": "632e551a-ec8a-4674-a8ec-93437ad36001",
   "metadata": {},
   "outputs": [
    {
     "name": "stdout",
     "output_type": "stream",
     "text": [
      "<class 'pandas.core.frame.DataFrame'>\n",
      "RangeIndex: 142 entries, 0 to 141\n",
      "Data columns (total 9 columns):\n",
      " #   Column                      Non-Null Count  Dtype  \n",
      "---  ------                      --------------  -----  \n",
      " 0   Year                        142 non-null    int64  \n",
      " 1   Month                       142 non-null    int64  \n",
      " 2   Export_Quantity_(Kg)        142 non-null    float64\n",
      " 3   Export_Price_(Rs.)          142 non-null    float64\n",
      " 4   High_Grown_Quantity_(Kg)    142 non-null    float64\n",
      " 5   Medium_Grown_Quantity_(Kg)  142 non-null    float64\n",
      " 6   Low_Grown_Quantity_(Kg)     142 non-null    float64\n",
      " 7   Avg_Exchange_Rate           142 non-null    float64\n",
      " 8   FEE_(USD)                   142 non-null    float64\n",
      "dtypes: float64(7), int64(2)\n",
      "memory usage: 10.1 KB\n"
     ]
    }
   ],
   "source": [
    "data.info()"
   ]
  },
  {
   "cell_type": "code",
   "execution_count": 9,
   "id": "ec1a1f5a-51ed-4dad-9e75-98b06abd4c08",
   "metadata": {},
   "outputs": [],
   "source": [
    "model = LinearRegression()\n",
    "model = model.fit(X_train, y_train)"
   ]
  },
  {
   "cell_type": "code",
   "execution_count": 10,
   "id": "9d7c1a22-b4f5-458c-b1ed-1641c7cc1de1",
   "metadata": {},
   "outputs": [
    {
     "name": "stdout",
     "output_type": "stream",
     "text": [
      "0.9606676644869463\n"
     ]
    }
   ],
   "source": [
    "acc = model.score(X_test, y_test)\n",
    "print(acc)"
   ]
  },
  {
   "cell_type": "code",
   "execution_count": 11,
   "id": "83864168-7cec-4a55-b340-456a77353dee",
   "metadata": {},
   "outputs": [],
   "source": [
    "import pickle\n",
    "with open('forex_model.pickle', 'wb') as file:\n",
    "    pickle.dump(model, file)"
   ]
  },
  {
   "cell_type": "code",
   "execution_count": 12,
   "id": "c89914c2-d61d-49d0-a1c2-176d98fc0bb0",
   "metadata": {},
   "outputs": [
    {
     "data": {
      "text/plain": [
       "Index(['Year', 'Month', 'Export_Quantity_(Kg)', 'Export_Price_(Rs.)',\n",
       "       'High_Grown_Quantity_(Kg)', 'Medium_Grown_Quantity_(Kg)',\n",
       "       'Low_Grown_Quantity_(Kg)', 'Avg_Exchange_Rate'],\n",
       "      dtype='object')"
      ]
     },
     "execution_count": 12,
     "metadata": {},
     "output_type": "execute_result"
    }
   ],
   "source": [
    "X_train.columns"
   ]
  },
  {
   "cell_type": "code",
   "execution_count": 13,
   "id": "4cc4822a-bfdf-4216-a193-cab55a601990",
   "metadata": {},
   "outputs": [
    {
     "name": "stderr",
     "output_type": "stream",
     "text": [
      "C:\\Users\\hasit\\anaconda3\\Lib\\site-packages\\sklearn\\utils\\validation.py:2739: UserWarning: X does not have valid feature names, but LinearRegression was fitted with feature names\n",
      "  warnings.warn(\n"
     ]
    },
    {
     "data": {
      "text/plain": [
       "array([33939159.66960168])"
      ]
     },
     "execution_count": 13,
     "metadata": {},
     "output_type": "execute_result"
    }
   ],
   "source": [
    "model.predict([[2025, 12, 25502254.0, 500, 8726319.70, 3842289.7, 17506502.00, 290]])"
   ]
  },
  {
   "cell_type": "code",
   "execution_count": 14,
   "id": "aa12eb6e-7b55-452d-b3c5-d43f61f9ab8b",
   "metadata": {},
   "outputs": [],
   "source": [
    "import matplotlib.pyplot as plt"
   ]
  },
  {
   "cell_type": "code",
   "execution_count": 15,
   "id": "65879862-b407-4b64-a461-0e6b47ee95f8",
   "metadata": {},
   "outputs": [
    {
     "name": "stderr",
     "output_type": "stream",
     "text": [
      "C:\\Users\\hasit\\anaconda3\\Lib\\site-packages\\sklearn\\utils\\validation.py:2739: UserWarning: X does not have valid feature names, but LinearRegression was fitted with feature names\n",
      "  warnings.warn(\n"
     ]
    }
   ],
   "source": [
    "sample_data = [\n",
    "    [2025, 1, 25502254.0, 500, 8726319.70, 3842289.7, 17506502.00, 290],\n",
    "    [2025, 2, 24000000.0, 490, 8500000.0, 3700000.0, 17000000.00, 285],\n",
    "    [2025, 3, 23000000.0, 480, 8300000.0, 3600000.0, 16500000.00, 280],\n",
    "    [2025, 4, 22000000.0, 470, 8200000.0, 3500000.0, 16000000.00, 275],\n",
    "    [2025, 5, 21000000.0, 460, 8100000.0, 3400000.0, 15500000.00, 270],\n",
    "]\n",
    "\n",
    "sample_data = np.array(sample_data)\n",
    "\n",
    "predictions = model.predict(sample_data)\n",
    "\n",
    "months = sample_data[:, 1]"
   ]
  },
  {
   "cell_type": "code",
   "execution_count": 16,
   "id": "2208306b-fab3-4563-b8b6-2be3f563b633",
   "metadata": {},
   "outputs": [
    {
     "data": {
      "image/png": "[encoded data removed]",
      "text/plain": [
       "<Figure size 1000x600 with 1 Axes>"
      ]
     },
     "metadata": {},
     "output_type": "display_data"
    }
   ],
   "source": [
    "# Plot the predictions\n",
    "plt.figure(figsize=(10, 6))\n",
    "plt.plot(months, predictions, marker='o', label='Predicted FEE', color='green', linewidth=2)\n",
    "plt.title('Predicted Foreign Exchange Earnings (FEE) Over Months (2025)', fontsize=16)\n",
    "plt.xlabel('Month', fontsize=12)\n",
    "plt.ylabel('FEE (USD)', fontsize=12)\n",
    "plt.xticks(ticks=months, labels=[f'{int(m):02d}' for m in months])  # Format months as MM\n",
    "plt.grid(alpha=0.5)\n",
    "plt.legend()\n",
    "plt.show()"
   ]
  },
  {
   "cell_type": "code",
   "execution_count": null,
   "id": "93f0651c-640a-4e12-a665-b0c7ccc0a067",
   "metadata": {},
   "outputs": [],
   "source": []
  }
 ],
 "metadata": {
  "kernelspec": {
   "display_name": "Python 3 (ipykernel)",
   "language": "python",
   "name": "python3"
  },
  "language_info": {
   "codemirror_mode": {
    "name": "ipython",
    "version": 3
   },
   "file_extension": ".py",
   "mimetype": "text/x-python",
   "name": "python",
   "nbconvert_exporter": "python",
   "pygments_lexer": "ipython3",
   "version": "3.12.7"
  }
 },
 "nbformat": 4,
 "nbformat_minor": 5
}
