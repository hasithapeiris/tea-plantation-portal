{
 "cells": [
  {
   "cell_type": "code",
   "execution_count": 1,
   "id": "2200b466-a5a5-4d3e-878a-6a8c7875d0ef",
   "metadata": {},
   "outputs": [],
   "source": [
    "import pandas as pd"
   ]
  },
  {
   "cell_type": "code",
   "execution_count": 2,
   "id": "89be5f57-c515-4246-846e-78840b28b5e4",
   "metadata": {},
   "outputs": [],
   "source": [
    "# Load datasets\n",
    "lgp_df = pd.read_csv(\"lgp_forecast_3_years.csv\")\n",
    "mgp_df = pd.read_csv(\"mgp_forecast_3_years.csv\")\n",
    "hgp_df = pd.read_csv(\"hgp_forecast_3_years.csv\")"
   ]
  },
  {
   "cell_type": "code",
   "execution_count": 3,
   "id": "3703b9b9-e681-4116-962c-8f081631e7bf",
   "metadata": {},
   "outputs": [],
   "source": [
    "# Merge on 'Month' column\n",
    "merged_df = lgp_df.merge(mgp_df, on='month', how='outer').merge(hgp_df, on='month', how='outer')\n",
    "\n",
    "# Set 'Month' as the index\n",
    "merged_df.set_index('month', inplace=True)"
   ]
  },
  {
   "cell_type": "code",
   "execution_count": 4,
   "id": "6c697e29-cd68-42dc-8b9f-efe11bf287b3",
   "metadata": {},
   "outputs": [
    {
     "name": "stdout",
     "output_type": "stream",
     "text": [
      "         lowGrownProduction  midGrownProduction  highGrownProduction\n",
      "month                                                               \n",
      "2024-01               14.51                3.79                 4.93\n",
      "2024-02               14.49                3.38                 4.39\n",
      "2024-03               13.87                3.57                 4.61\n",
      "2024-04               15.48                4.48                 5.50\n",
      "2024-05               15.64                4.14                 5.38\n",
      "2024-06               16.31                3.18                 5.23\n",
      "2024-07               15.66                3.68                 4.62\n",
      "2024-08               14.84                3.88                 4.84\n",
      "2024-09               15.27                4.23                 6.00\n",
      "2024-10               15.34                5.07                 6.76\n",
      "2024-11               16.40                5.26                 6.83\n",
      "2024-12               15.51                4.23                 5.92\n",
      "2025-01               15.50                3.51                 4.85\n",
      "2025-02               14.86                3.45                 4.33\n",
      "2025-03               15.06                3.71                 4.71\n",
      "2025-04               15.90                4.32                 5.47\n",
      "2025-05               15.84                3.92                 5.46\n",
      "2025-06               16.13                3.70                 5.21\n",
      "2025-07               14.97                3.64                 4.72\n",
      "2025-08               15.23                3.58                 4.74\n",
      "2025-09               15.04                4.17                 5.79\n",
      "2025-10               15.65                5.22                 6.60\n",
      "2025-11               16.06                5.19                 6.79\n",
      "2025-12               15.61                4.11                 6.10\n",
      "2026-01               15.61                3.75                 4.98\n",
      "2026-02               14.84                3.45                 4.42\n",
      "2026-03               15.51                3.67                 4.68\n",
      "2026-04               15.42                4.06                 5.38\n",
      "2026-05               15.88                4.17                 5.54\n",
      "2026-06               15.73                3.92                 5.27\n",
      "2026-07               15.27                3.45                 4.78\n",
      "2026-08               15.42                3.50                 4.68\n",
      "2026-09               15.10                4.23                 5.58\n",
      "2026-10               15.84                5.20                 6.45\n",
      "2026-11               15.52                4.89                 6.74\n",
      "2026-12               15.74                4.38                 6.23\n"
     ]
    }
   ],
   "source": [
    "print(merged_df)"
   ]
  },
  {
   "cell_type": "code",
   "execution_count": 5,
   "id": "59793fc9-186a-4540-83df-fcec5c3face4",
   "metadata": {},
   "outputs": [],
   "source": [
    "merged_df.to_csv('merged_elevations_3_years.csv')"
   ]
  },
  {
   "cell_type": "code",
   "execution_count": null,
   "id": "bf40f2ab-bc35-47d5-9fef-2e1652cc9fa0",
   "metadata": {},
   "outputs": [],
   "source": []
  }
 ],
 "metadata": {
  "kernelspec": {
   "display_name": "Python 3 (ipykernel)",
   "language": "python",
   "name": "python3"
  },
  "language_info": {
   "codemirror_mode": {
    "name": "ipython",
    "version": 3
   },
   "file_extension": ".py",
   "mimetype": "text/x-python",
   "name": "python",
   "nbconvert_exporter": "python",
   "pygments_lexer": "ipython3",
   "version": "3.12.7"
  }
 },
 "nbformat": 4,
 "nbformat_minor": 5
}
