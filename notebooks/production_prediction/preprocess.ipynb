{
 "cells": [
  {
   "cell_type": "code",
   "execution_count": 36,
   "id": "06b42c3f-98b6-4813-b8f0-096ee2996f13",
   "metadata": {
    "collapsed": true,
    "jupyter": {
     "outputs_hidden": true
    }
   },
   "outputs": [
    {
     "name": "stdout",
     "output_type": "stream",
     "text": [
      "   Year  Month  Export_Quantity_(Kg)  Export_Price_(Rs.)  \\\n",
      "0  2012      3            27702254.0              536.71   \n",
      "1  2012      4            23290994.0              540.91   \n",
      "2  2012      5            30004885.0              567.32   \n",
      "3  2012      6            22804265.0              553.03   \n",
      "4  2012      7            25761299.0              555.55   \n",
      "\n",
      "   High_Grown_Quantity_(Kg)  Medium_Grown_Quantity_(Kg)  \\\n",
      "0                6385525.09                   4625138.9   \n",
      "1                7323011.00                   5748401.2   \n",
      "2                8726319.70                   5898297.1   \n",
      "3                5963710.45                   3842289.7   \n",
      "4                4064094.35                   3429525.6   \n",
      "\n",
      "   Low_Grown_Quantity_(Kg)  Avg_Exchange_Rate     FEE_(USD)  \n",
      "0              17929328.00           200.0000  7.434038e+07  \n",
      "1              16982493.50           200.0000  6.299166e+07  \n",
      "2              18086627.25           200.0000  8.511186e+07  \n",
      "3              16737376.00           130.3009  9.678707e+07  \n",
      "4              17506502.00           200.0000  7.155845e+07  \n"
     ]
    }
   ],
   "source": [
    "import pandas as pd\n",
    "\n",
    "# Load the dataset\n",
    "df = pd.read_csv('tea_production_data.csv')\n",
    "\n",
    "# Display the first few rows\n",
    "print(df.head())"
   ]
  },
  {
   "cell_type": "code",
   "execution_count": 37,
   "id": "4fdbfcaa-0f68-4b7b-86eb-6521f12517f4",
   "metadata": {},
   "outputs": [],
   "source": [
    "df = df.drop(columns=['FEE_(USD)'])"
   ]
  },
  {
   "cell_type": "code",
   "execution_count": 38,
   "id": "f6a6366d-9146-4b95-994a-2665d243d677",
   "metadata": {
    "collapsed": true,
    "jupyter": {
     "outputs_hidden": true
    },
    "scrolled": true
   },
   "outputs": [
    {
     "name": "stdout",
     "output_type": "stream",
     "text": [
      "   Year  Month  Export_Quantity_(Kg)  Export_Price_(Rs.)  \\\n",
      "0  2012      3            27702254.0              536.71   \n",
      "1  2012      4            23290994.0              540.91   \n",
      "2  2012      5            30004885.0              567.32   \n",
      "3  2012      6            22804265.0              553.03   \n",
      "4  2012      7            25761299.0              555.55   \n",
      "\n",
      "   High_Grown_Quantity_(Kg)  Medium_Grown_Quantity_(Kg)  \\\n",
      "0                6385525.09                   4625138.9   \n",
      "1                7323011.00                   5748401.2   \n",
      "2                8726319.70                   5898297.1   \n",
      "3                5963710.45                   3842289.7   \n",
      "4                4064094.35                   3429525.6   \n",
      "\n",
      "   Low_Grown_Quantity_(Kg)  Avg_Exchange_Rate  \n",
      "0              17929328.00           200.0000  \n",
      "1              16982493.50           200.0000  \n",
      "2              18086627.25           200.0000  \n",
      "3              16737376.00           130.3009  \n",
      "4              17506502.00           200.0000  \n"
     ]
    }
   ],
   "source": [
    "print(df.head())"
   ]
  },
  {
   "cell_type": "code",
   "execution_count": 39,
   "id": "0c8c8b0f-1176-4261-ad0e-41e09f7a4eb6",
   "metadata": {
    "collapsed": true,
    "jupyter": {
     "outputs_hidden": true
    }
   },
   "outputs": [
    {
     "name": "stdout",
     "output_type": "stream",
     "text": [
      "Year                          0\n",
      "Month                         0\n",
      "Export_Quantity_(Kg)          0\n",
      "Export_Price_(Rs.)            0\n",
      "High_Grown_Quantity_(Kg)      0\n",
      "Medium_Grown_Quantity_(Kg)    0\n",
      "Low_Grown_Quantity_(Kg)       0\n",
      "Avg_Exchange_Rate             0\n",
      "dtype: int64\n"
     ]
    }
   ],
   "source": [
    "# Check for missing values\n",
    "print(df.isnull().sum())"
   ]
  },
  {
   "cell_type": "code",
   "execution_count": 40,
   "id": "4545c5e5-8c5d-47ca-9cda-5966fba627eb",
   "metadata": {},
   "outputs": [],
   "source": [
    "# Convert to string and format as 'YYYY-MM'\n",
    "df['Year-Month'] = df['Year'].astype(str) + '-' + df['Month'].astype(str).str.zfill(2)"
   ]
  },
  {
   "cell_type": "code",
   "execution_count": 41,
   "id": "abf87ba1-5390-4f3a-8c79-0382fb69b0b1",
   "metadata": {},
   "outputs": [],
   "source": [
    "df = df.drop(columns=['Year', 'Month'])"
   ]
  },
  {
   "cell_type": "code",
   "execution_count": 42,
   "id": "2f3f25ed-3332-4d79-9f5f-36eaa2bb33a1",
   "metadata": {},
   "outputs": [],
   "source": [
    "df.rename(columns={'High_Grown_Quantity_(Kg)': 'High_Grown_Production_(Kg)', 'Medium_Grown_Quantity_(Kg)': 'Mid_Grown_Production_(Kg)', 'Low_Grown_Quantity_(Kg)': 'Low_Grown_Production_(Kg)', 'Export_Price_(Rs.)': 'Export_Price_(Rs)'}, inplace=True)"
   ]
  },
  {
   "cell_type": "code",
   "execution_count": 43,
   "id": "35872d1a-768d-4666-8f1d-1e5a19600157",
   "metadata": {},
   "outputs": [],
   "source": [
    "# Reorder columns to move 'Year-Month' to the top\n",
    "df = df[['Year-Month', 'High_Grown_Production_(Kg)', 'Mid_Grown_Production_(Kg)', 'Low_Grown_Production_(Kg)', 'Export_Quantity_(Kg)', 'Export_Price_(Rs)', 'Avg_Exchange_Rate']]"
   ]
  },
  {
   "cell_type": "code",
   "execution_count": 44,
   "id": "39dd54bf-8102-4efa-806d-42999d450d4e",
   "metadata": {},
   "outputs": [],
   "source": [
    "df.to_csv('final_dataset.csv', index=False)"
   ]
  },
  {
   "cell_type": "code",
   "execution_count": null,
   "id": "cbea8c94-b255-4794-8a50-a5480e266478",
   "metadata": {},
   "outputs": [],
   "source": []
  }
 ],
 "metadata": {
  "kernelspec": {
   "display_name": "Python 3 (ipykernel)",
   "language": "python",
   "name": "python3"
  },
  "language_info": {
   "codemirror_mode": {
    "name": "ipython",
    "version": 3
   },
   "file_extension": ".py",
   "mimetype": "text/x-python",
   "name": "python",
   "nbconvert_exporter": "python",
   "pygments_lexer": "ipython3",
   "version": "3.12.7"
  }
 },
 "nbformat": 4,
 "nbformat_minor": 5
}
